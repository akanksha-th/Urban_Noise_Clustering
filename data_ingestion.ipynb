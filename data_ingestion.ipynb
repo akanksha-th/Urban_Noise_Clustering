{
 "cells": [
  {
   "cell_type": "code",
   "execution_count": null,
   "id": "33317d2e",
   "metadata": {},
   "outputs": [],
   "source": [
    "import pandas as pd\n",
    "import seaborn as sns\n",
    "import matplotlib.pyplot as plt\n",
    "\n",
    "pd.set_option(\"display.max_columns\", None)"
   ]
  },
  {
   "cell_type": "code",
   "execution_count": null,
   "id": "2b0fb638",
   "metadata": {},
   "outputs": [],
   "source": [
    "df = pd.read_csv(\".data/311_Service_Requests_from_2010_to_Present_20250720.csv\")\n",
    "df.head()"
   ]
  },
  {
   "cell_type": "code",
   "execution_count": null,
   "id": "a1277718",
   "metadata": {},
   "outputs": [],
   "source": [
    "from skimpy import skim\n",
    "\n",
    "skim(df)"
   ]
  },
  {
   "cell_type": "markdown",
   "id": "a3be94bc",
   "metadata": {},
   "source": [
    "### Handling Missing Values"
   ]
  },
  {
   "cell_type": "code",
   "execution_count": null,
   "id": "9ce4bd85",
   "metadata": {},
   "outputs": [],
   "source": [
    "!pip install missingno\n",
    "import missingno as msno\n",
    "\n",
    "msno.matrix(df)\n",
    "plt.show()"
   ]
  },
  {
   "cell_type": "code",
   "execution_count": null,
   "id": "71ceff73",
   "metadata": {},
   "outputs": [],
   "source": [
    "missing_pct = df.isnull().mean().round(4).sort_values(ascending=False) * 100\n",
    "cols_over_50 = missing_pct[missing_pct >= 50].index\n",
    "df[cols_over_50].columns"
   ]
  },
  {
   "cell_type": "code",
   "execution_count": null,
   "id": "034d9fa9",
   "metadata": {},
   "outputs": [],
   "source": [
    "df.drop(columns=cols_over_50, inplace=True)\n",
    "df.shape"
   ]
  },
  {
   "cell_type": "code",
   "execution_count": null,
   "id": "2279e36d",
   "metadata": {},
   "outputs": [],
   "source": []
  }
 ],
 "metadata": {
  "kernelspec": {
   "display_name": ".clustering_venv",
   "language": "python",
   "name": "python3"
  },
  "language_info": {
   "codemirror_mode": {
    "name": "ipython",
    "version": 3
   },
   "file_extension": ".py",
   "mimetype": "text/x-python",
   "name": "python",
   "nbconvert_exporter": "python",
   "pygments_lexer": "ipython3",
   "version": "3.11.9"
  }
 },
 "nbformat": 4,
 "nbformat_minor": 5
}
